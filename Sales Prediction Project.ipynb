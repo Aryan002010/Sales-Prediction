{
 "cells": [
  {
   "cell_type": "code",
   "execution_count": null,
   "id": "6f2ac884",
   "metadata": {},
   "outputs": [],
   "source": [
    "import numpy as np\n",
    "import pandas as pd\n",
    "import seaborn as sns\n",
    "import matplotlib.pyplot as plt\n",
    "from sklearn.preprocessing import LabelEncoder\n",
    "from sklearn.model_selection import train_test_split\n",
    "from xgboost import XGBRegressor\n",
    "from sklearn import metrics"
   ]
  },
  {
   "cell_type": "code",
   "execution_count": null,
   "id": "96cd7cad",
   "metadata": {},
   "outputs": [],
   "source": [
    "sales_train = pd.read_csv('Train.csv')\n",
    "sales_train.head()"
   ]
  },
  {
   "cell_type": "code",
   "execution_count": null,
   "id": "bad884cb",
   "metadata": {},
   "outputs": [],
   "source": [
    "sales_test = pd.read_csv('Test.csv')\n",
    "sales_test.head()"
   ]
  },
  {
   "cell_type": "code",
   "execution_count": null,
   "id": "779f2deb",
   "metadata": {},
   "outputs": [],
   "source": [
    "sales_train.shape"
   ]
  },
  {
   "cell_type": "code",
   "execution_count": null,
   "id": "bbdcd0b3",
   "metadata": {},
   "outputs": [],
   "source": [
    "sales_train.info()"
   ]
  },
  {
   "cell_type": "code",
   "execution_count": null,
   "id": "5585bc77",
   "metadata": {},
   "outputs": [],
   "source": [
    "# checking missing values"
   ]
  },
  {
   "cell_type": "code",
   "execution_count": null,
   "id": "9c5b9e55",
   "metadata": {},
   "outputs": [],
   "source": [
    "sales_train.isnull().sum()"
   ]
  },
  {
   "cell_type": "code",
   "execution_count": null,
   "id": "bb84b67d",
   "metadata": {},
   "outputs": [],
   "source": []
  },
  {
   "cell_type": "code",
   "execution_count": null,
   "id": "6f77cc1d",
   "metadata": {},
   "outputs": [],
   "source": [
    "# to fill numerical column we will use mean \n",
    "# to fill categorical column we will use mode"
   ]
  },
  {
   "cell_type": "code",
   "execution_count": null,
   "id": "c8cc4328",
   "metadata": {},
   "outputs": [],
   "source": [
    "sales_train['Item_Weight'].mean()"
   ]
  },
  {
   "cell_type": "code",
   "execution_count": null,
   "id": "bc4504ac",
   "metadata": {},
   "outputs": [],
   "source": [
    "sales_train['Item_Weight'].fillna(sales_train['Item_Weight'].mean(), inplace=True)\n",
    "sales_test['Item_Weight'].fillna(sales_test['Item_Weight'].mean(), inplace=True)"
   ]
  },
  {
   "cell_type": "code",
   "execution_count": null,
   "id": "c3b63246",
   "metadata": {},
   "outputs": [],
   "source": [
    "sales_train.isnull().sum()"
   ]
  },
  {
   "cell_type": "code",
   "execution_count": null,
   "id": "eb827cf3",
   "metadata": {},
   "outputs": [],
   "source": []
  },
  {
   "cell_type": "code",
   "execution_count": null,
   "id": "81fc3ccb",
   "metadata": {},
   "outputs": [],
   "source": [
    "# replacing the missing value of \"outlet_size\" with mode"
   ]
  },
  {
   "cell_type": "code",
   "execution_count": null,
   "id": "52f40974",
   "metadata": {},
   "outputs": [],
   "source": [
    "sales_train['Outlet_Size'].value_counts()"
   ]
  },
  {
   "cell_type": "code",
   "execution_count": null,
   "id": "c918da24",
   "metadata": {},
   "outputs": [],
   "source": [
    "sales_train['Outlet_Size'].fillna(sales_train['Outlet_Size'].mode()[0], inplace = True)\n",
    "sales_test['Outlet_Size'].fillna(sales_test['Outlet_Size'].mode()[0], inplace = True)"
   ]
  },
  {
   "cell_type": "code",
   "execution_count": null,
   "id": "1574108f",
   "metadata": {},
   "outputs": [],
   "source": [
    "sales_train"
   ]
  },
  {
   "cell_type": "code",
   "execution_count": null,
   "id": "bba28c70",
   "metadata": {},
   "outputs": [],
   "source": [
    "sales_test"
   ]
  },
  {
   "cell_type": "code",
   "execution_count": null,
   "id": "6c61c8fd",
   "metadata": {},
   "outputs": [],
   "source": [
    "sales_train.isnull().sum()"
   ]
  },
  {
   "cell_type": "code",
   "execution_count": null,
   "id": "806e29f0",
   "metadata": {},
   "outputs": [],
   "source": []
  },
  {
   "cell_type": "code",
   "execution_count": null,
   "id": "8c0ee06b",
   "metadata": {},
   "outputs": [],
   "source": [
    "# plots according to numerical data"
   ]
  },
  {
   "cell_type": "code",
   "execution_count": null,
   "id": "1f001b3a",
   "metadata": {},
   "outputs": [],
   "source": [
    "sns.set()\n",
    "plt.figure(figsize=(6,6))\n",
    "sns.distplot(sales_train['Item_Weight'])\n",
    "plt.show()"
   ]
  },
  {
   "cell_type": "code",
   "execution_count": null,
   "id": "811d88fa",
   "metadata": {},
   "outputs": [],
   "source": [
    "sns.set()\n",
    "plt.figure(figsize=(6,6))\n",
    "sns.distplot(sales_train['Item_Visibility'])\n",
    "plt.show()"
   ]
  },
  {
   "cell_type": "code",
   "execution_count": null,
   "id": "15b2371b",
   "metadata": {},
   "outputs": [],
   "source": []
  },
  {
   "cell_type": "code",
   "execution_count": null,
   "id": "dc17bbfc",
   "metadata": {},
   "outputs": [],
   "source": [
    "# countplot"
   ]
  },
  {
   "cell_type": "code",
   "execution_count": null,
   "id": "83195bc6",
   "metadata": {},
   "outputs": [],
   "source": [
    "sns.set()\n",
    "plt.figure(figsize=(6,6))\n",
    "sns.countplot(sales_train['Outlet_Establishment_Year'])\n",
    "plt.show()"
   ]
  },
  {
   "cell_type": "code",
   "execution_count": null,
   "id": "8d000f3d",
   "metadata": {},
   "outputs": [],
   "source": []
  },
  {
   "cell_type": "code",
   "execution_count": null,
   "id": "b2a95fb7",
   "metadata": {},
   "outputs": [],
   "source": [
    "# plots for categorical data"
   ]
  },
  {
   "cell_type": "code",
   "execution_count": null,
   "id": "12a8b6f8",
   "metadata": {},
   "outputs": [],
   "source": [
    "sns.set()\n",
    "plt.figure(figsize=(6,6))\n",
    "sns.countplot(sales_train['Item_Fat_Content'])\n",
    "plt.show()"
   ]
  },
  {
   "cell_type": "code",
   "execution_count": null,
   "id": "4fe9d9e0",
   "metadata": {},
   "outputs": [],
   "source": [
    "sns.set()\n",
    "plt.figure(figsize=(30,6))\n",
    "sns.countplot(sales_train['Item_Type'])\n",
    "plt.show()"
   ]
  },
  {
   "cell_type": "code",
   "execution_count": null,
   "id": "86e4e3f7",
   "metadata": {},
   "outputs": [],
   "source": []
  },
  {
   "cell_type": "code",
   "execution_count": null,
   "id": "2163c889",
   "metadata": {},
   "outputs": [],
   "source": [
    "sales_train.head()"
   ]
  },
  {
   "cell_type": "code",
   "execution_count": null,
   "id": "7b4f70bd",
   "metadata": {},
   "outputs": [],
   "source": [
    "# Data Preprocessing"
   ]
  },
  {
   "cell_type": "code",
   "execution_count": null,
   "id": "3dc1a0bd",
   "metadata": {},
   "outputs": [],
   "source": [
    "sales_train['Item_Fat_Content'].value_counts()"
   ]
  },
  {
   "cell_type": "code",
   "execution_count": null,
   "id": "2634236c",
   "metadata": {},
   "outputs": [],
   "source": [
    "sales_train.replace({'Item_Fat_Content': {'low fat':'Low Fat', 'LF':'Low Fat', 'reg':'Regular'}}, inplace=True)"
   ]
  },
  {
   "cell_type": "code",
   "execution_count": null,
   "id": "ad469f4b",
   "metadata": {},
   "outputs": [],
   "source": [
    "sales_train['Item_Fat_Content'].value_counts()"
   ]
  },
  {
   "cell_type": "code",
   "execution_count": null,
   "id": "20cc3c35",
   "metadata": {},
   "outputs": [],
   "source": []
  },
  {
   "cell_type": "code",
   "execution_count": null,
   "id": "41147673",
   "metadata": {},
   "outputs": [],
   "source": [
    "# Label Encoding  "
   ]
  },
  {
   "cell_type": "code",
   "execution_count": null,
   "id": "0f4ce26d",
   "metadata": {},
   "outputs": [],
   "source": [
    "encoder = LabelEncoder()"
   ]
  },
  {
   "cell_type": "code",
   "execution_count": null,
   "id": "7718767b",
   "metadata": {},
   "outputs": [],
   "source": [
    "sales_train['Item_Identifier'] = encoder.fit_transform(sales_train['Item_Identifier'])\n",
    "\n",
    "sales_train['Item_Fat_Content'] = encoder.fit_transform(sales_train['Item_Fat_Content'])\n",
    "\n",
    "sales_train['Item_Type'] = encoder.fit_transform(sales_train['Item_Type'])\n",
    "\n",
    "sales_train['Outlet_Identifier'] = encoder.fit_transform(sales_train['Outlet_Identifier'])\n",
    "\n",
    "sales_train['Outlet_Size'] = encoder.fit_transform(sales_train['Outlet_Size'])\n",
    "\n",
    "sales_train['Outlet_Location_Type'] = encoder.fit_transform(sales_train['Outlet_Location_Type'])\n",
    "\n",
    "sales_train['Outlet_Type'] = encoder.fit_transform(sales_train['Outlet_Type'])"
   ]
  },
  {
   "cell_type": "code",
   "execution_count": null,
   "id": "1e9428d2",
   "metadata": {},
   "outputs": [],
   "source": [
    "sales_train.head()"
   ]
  },
  {
   "cell_type": "code",
   "execution_count": null,
   "id": "a144217e",
   "metadata": {},
   "outputs": [],
   "source": []
  },
  {
   "cell_type": "code",
   "execution_count": null,
   "id": "5eae4e53",
   "metadata": {},
   "outputs": [],
   "source": []
  },
  {
   "cell_type": "code",
   "execution_count": null,
   "id": "1cae1923",
   "metadata": {},
   "outputs": [],
   "source": [
    "# Splitting features and target"
   ]
  },
  {
   "cell_type": "code",
   "execution_count": null,
   "id": "ca6bd378",
   "metadata": {},
   "outputs": [],
   "source": [
    "X = sales_train.drop(columns = 'Item_Outlet_Sales', axis=1)\n",
    "Y = sales_train['Item_Outlet_Sales']"
   ]
  },
  {
   "cell_type": "code",
   "execution_count": null,
   "id": "b0c5ba2a",
   "metadata": {},
   "outputs": [],
   "source": [
    "print(X)"
   ]
  },
  {
   "cell_type": "code",
   "execution_count": null,
   "id": "065e33ba",
   "metadata": {},
   "outputs": [],
   "source": [
    "print(Y)"
   ]
  },
  {
   "cell_type": "code",
   "execution_count": null,
   "id": "e0010561",
   "metadata": {},
   "outputs": [],
   "source": []
  },
  {
   "cell_type": "code",
   "execution_count": null,
   "id": "ac8de564",
   "metadata": {},
   "outputs": [],
   "source": []
  },
  {
   "cell_type": "code",
   "execution_count": null,
   "id": "ded55acf",
   "metadata": {},
   "outputs": [],
   "source": [
    "# train_test_split"
   ]
  },
  {
   "cell_type": "code",
   "execution_count": null,
   "id": "f37e881e",
   "metadata": {},
   "outputs": [],
   "source": [
    "X_train, X_test, Y_train, Y_test = train_test_split(X, Y, test_size=0.2, random_state = 2)"
   ]
  },
  {
   "cell_type": "code",
   "execution_count": null,
   "id": "f2197902",
   "metadata": {},
   "outputs": [],
   "source": [
    "print(X.shape, X_train.shape, X_test.shape)"
   ]
  },
  {
   "cell_type": "code",
   "execution_count": null,
   "id": "505358a1",
   "metadata": {},
   "outputs": [],
   "source": []
  },
  {
   "cell_type": "code",
   "execution_count": null,
   "id": "4b84f7a8",
   "metadata": {},
   "outputs": [],
   "source": []
  },
  {
   "cell_type": "code",
   "execution_count": null,
   "id": "6c0ca606",
   "metadata": {},
   "outputs": [],
   "source": [
    "# Model Training"
   ]
  },
  {
   "cell_type": "code",
   "execution_count": null,
   "id": "e8e20be7",
   "metadata": {},
   "outputs": [],
   "source": [
    "# XGBoost Regressor"
   ]
  },
  {
   "cell_type": "code",
   "execution_count": null,
   "id": "c8884b11",
   "metadata": {},
   "outputs": [],
   "source": [
    "from xgboost import XGBRegressor"
   ]
  },
  {
   "cell_type": "code",
   "execution_count": null,
   "id": "74d2f080",
   "metadata": {},
   "outputs": [],
   "source": [
    "regressor = XGBRegressor()"
   ]
  },
  {
   "cell_type": "code",
   "execution_count": null,
   "id": "5cdfd599",
   "metadata": {},
   "outputs": [],
   "source": [
    "regressor.fit(X_train,X_train)"
   ]
  },
  {
   "cell_type": "code",
   "execution_count": null,
   "id": "12b7fd83",
   "metadata": {},
   "outputs": [],
   "source": []
  },
  {
   "cell_type": "code",
   "execution_count": null,
   "id": "c5530f0c",
   "metadata": {},
   "outputs": [],
   "source": []
  },
  {
   "cell_type": "code",
   "execution_count": null,
   "id": "4480ea16",
   "metadata": {},
   "outputs": [],
   "source": [
    "# Model Evaluation"
   ]
  },
  {
   "cell_type": "code",
   "execution_count": null,
   "id": "f128177c",
   "metadata": {},
   "outputs": [],
   "source": [
    "# prediction on training data"
   ]
  },
  {
   "cell_type": "code",
   "execution_count": null,
   "id": "c1f19983",
   "metadata": {},
   "outputs": [],
   "source": [
    "training_data_prediction = regressor.predict(X_train)"
   ]
  },
  {
   "cell_type": "code",
   "execution_count": null,
   "id": "00b18db7",
   "metadata": {},
   "outputs": [],
   "source": [
    "# R squared value\n",
    "r2_train = metrics.r2_score(X_train, training_data_prediction)"
   ]
  },
  {
   "cell_type": "code",
   "execution_count": null,
   "id": "f87c533e",
   "metadata": {},
   "outputs": [],
   "source": [
    "print('R sqaured value =', r2_train)"
   ]
  },
  {
   "cell_type": "code",
   "execution_count": null,
   "id": "4eb1b68b",
   "metadata": {},
   "outputs": [],
   "source": []
  },
  {
   "cell_type": "code",
   "execution_count": null,
   "id": "8462f236",
   "metadata": {},
   "outputs": [],
   "source": [
    "# prediction on test data"
   ]
  },
  {
   "cell_type": "code",
   "execution_count": null,
   "id": "416a3f60",
   "metadata": {},
   "outputs": [],
   "source": [
    "testing_data_prediction = regressor.predict(X_test)"
   ]
  },
  {
   "cell_type": "code",
   "execution_count": null,
   "id": "37d0b524",
   "metadata": {},
   "outputs": [],
   "source": [
    "# R squared value\n",
    "r2_test = metrics.r2_score(X_test, testing_data_prediction)"
   ]
  },
  {
   "cell_type": "code",
   "execution_count": null,
   "id": "ed55ac34",
   "metadata": {},
   "outputs": [],
   "source": [
    "print('R sqaured value =', r2_test)"
   ]
  },
  {
   "cell_type": "code",
   "execution_count": null,
   "id": "f631efc1",
   "metadata": {},
   "outputs": [],
   "source": []
  }
 ],
 "metadata": {
  "kernelspec": {
   "display_name": "Python 3 (ipykernel)",
   "language": "python",
   "name": "python3"
  },
  "language_info": {
   "codemirror_mode": {
    "name": "ipython",
    "version": 3
   },
   "file_extension": ".py",
   "mimetype": "text/x-python",
   "name": "python",
   "nbconvert_exporter": "python",
   "pygments_lexer": "ipython3",
   "version": "3.9.13"
  }
 },
 "nbformat": 4,
 "nbformat_minor": 5
}
